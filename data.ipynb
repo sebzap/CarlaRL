{
 "cells": [
  {
   "cell_type": "code",
   "execution_count": null,
   "metadata": {},
   "outputs": [],
   "source": [
    "import pandas as pd\n",
    "from matplotlib import pyplot as plt\n",
    "import matplotlib.gridspec as gridspec\n",
    "import seaborn as sns\n",
    "from scipy import stats\n",
    "import tensorboard as tb\n",
    "from tensorboard.backend.event_processing.event_accumulator import EventAccumulator\n",
    "import os\n",
    "from tqdm import tqdm"
   ]
  },
  {
   "cell_type": "code",
   "execution_count": null,
   "metadata": {},
   "outputs": [],
   "source": [
    "sns.set(font_scale=1.5)"
   ]
  },
  {
   "cell_type": "code",
   "execution_count": null,
   "metadata": {},
   "outputs": [],
   "source": [
    "# https://github.com/theRealSuperMario/supermariopy/blob/master/scripts/tflogs2pandas.py\n",
    "def tflog2pandas(path: str) -> pd.DataFrame:\n",
    "    \"\"\"convert single tensorflow log file to pandas DataFrame\n",
    "    Parameters\n",
    "    ----------\n",
    "    path : str\n",
    "        path to tensorflow log file\n",
    "    Returns\n",
    "    -------\n",
    "    pd.DataFrame\n",
    "        converted dataframe\n",
    "    \"\"\"\n",
    "    DEFAULT_SIZE_GUIDANCE = {\n",
    "        \"compressedHistograms\": 1,\n",
    "        \"images\": 1,\n",
    "        \"scalars\": 0,  # 0 means load all\n",
    "        \"histograms\": 1,\n",
    "    }\n",
    "    runlog_data = pd.DataFrame({\"metric\": [], \"value\": [], \"step\": []})\n",
    "    try:\n",
    "        event_acc = EventAccumulator(path, DEFAULT_SIZE_GUIDANCE)\n",
    "        event_acc.Reload()\n",
    "        tags = event_acc.Tags()[\"scalars\"]\n",
    "        for tag in tags:\n",
    "            event_list = event_acc.Scalars(tag)\n",
    "            values = list(map(lambda x: x.value, event_list))\n",
    "            step = list(map(lambda x: x.step, event_list))\n",
    "            r = {\"metric\": [tag] * len(step), \"value\": values, \"step\": step}\n",
    "            r = pd.DataFrame(r)\n",
    "            runlog_data = pd.concat([runlog_data, r])\n",
    "    # Dirty catch of DataLossError\n",
    "    except Exception:\n",
    "        print(\"Event file possibly corrupt: {}\".format(path))\n",
    "        traceback.print_exc()\n",
    "    return runlog_data\n",
    "\n",
    "\n",
    "def many_logs2pandas(event_paths):\n",
    "    all_logs = pd.DataFrame()\n",
    "    for path in event_paths:\n",
    "        log = tflog2pandas(path)\n",
    "        if log is not None:\n",
    "            if all_logs.shape[0] == 0:\n",
    "                all_logs = log\n",
    "            else:\n",
    "                all_logs = all_logs.append(log, ignore_index=True)\n",
    "    return all_logs"
   ]
  },
  {
   "cell_type": "code",
   "execution_count": null,
   "metadata": {},
   "outputs": [],
   "source": [
    "def load_models(dir):\n",
    "    all_logs = pd.DataFrame()\n",
    "    models = next(os.walk(dir))[1]\n",
    "    for model in tqdm(models):\n",
    "        model_path = os.path.join(dir, model)\n",
    "        runs = next(os.walk(model_path))[1]\n",
    "        for run in runs:\n",
    "            path = os.path.join(model_path, run)\n",
    "            log = tflog2pandas(path)\n",
    "            log['run'] = run\n",
    "            log['model'] = model\n",
    "            # string_splits = run.split('_')\n",
    "            # log['tag'] = string_splits[0]\n",
    "            # log['model'] = string_splits[1]\n",
    "            # hp = ', '.join(string_splits[2:-3])\n",
    "            # if string_splits[1] == 'GecoVAE':\n",
    "            #     hp = hp.replace(\", 255,\", \",\")\n",
    "            #     hp = hp.replace(\"lambda, init\", \"lambda_init\")\n",
    "            # log['hyperparams'] = hp\n",
    "            # log['seed'] = string_splits[-3][4:]\n",
    "            # log['date'] = string_splits[-2] + \"_\" + string_splits[-1]\n",
    "\n",
    "            if log is not None:\n",
    "                if all_logs.shape[0] == 0:\n",
    "                    all_logs = log\n",
    "                else:\n",
    "                    all_logs = all_logs.append(log, ignore_index=True)\n",
    "\n",
    "\n",
    "    # create dataframe with final values\n",
    "    # dff = all_logs[all_logs.step == all_logs.step.max()]\n",
    "    # dff = dff.pivot_table(index=[\"run\", \"tag\", \"model\", \"hyperparams\", \"seed\", \"date\"], columns=[\"metric\"],values=\"value\")\n",
    "    # dff = pd.DataFrame(dff.to_records())\n",
    "    return all_logs #, dff"
   ]
  },
  {
   "cell_type": "code",
   "execution_count": null,
   "metadata": {},
   "outputs": [],
   "source": [
    "# dir = './carla/agents/data/'\n",
    "# df = load_models(dir)"
   ]
  },
  {
   "cell_type": "code",
   "execution_count": null,
   "metadata": {},
   "outputs": [],
   "source": [
    "# df.to_pickle(\"invers_exp.pkl\")"
   ]
  },
  {
   "cell_type": "code",
   "execution_count": null,
   "metadata": {},
   "outputs": [],
   "source": [
    "df = pd.read_pickle(\"all_ncextra.pkl\")"
   ]
  },
  {
   "cell_type": "code",
   "execution_count": null,
   "metadata": {},
   "outputs": [],
   "source": [
    "a = df\n",
    "a = a[a.metric == \"eval_stats/AvgEpRet\"]\n",
    "a = a[a.step == a.step.max()]\n"
   ]
  },
  {
   "cell_type": "code",
   "execution_count": null,
   "metadata": {},
   "outputs": [],
   "source": [
    "a.sort_values(\"value\")"
   ]
  },
  {
   "cell_type": "code",
   "execution_count": null,
   "metadata": {},
   "outputs": [],
   "source": [
    "plt.figure(figsize=(16, 18))\n",
    "sns.boxplot(data=a, y=a.model, x=a.value).set_title(\"Cumulative Reward\")\n"
   ]
  },
  {
   "cell_type": "code",
   "execution_count": null,
   "metadata": {},
   "outputs": [],
   "source": [
    "import re\n",
    "a['model_arch'] = a.model.apply(lambda x: 'nc' if x == 'nc' else re.findall(r'carlac_frozenvae_(\\w+)_',x)[0])\n",
    "a['model_hp'] = a.model.apply(lambda x: '' if x == 'nc' else re.findall(r'carlac_frozenvae_[^_]+(.*)_seed',x)[0])"
   ]
  },
  {
   "cell_type": "code",
   "execution_count": null,
   "metadata": {},
   "outputs": [],
   "source": [
    "df_mean = a.groupby([\"model_arch\",\"model_hp\"]).mean()"
   ]
  },
  {
   "cell_type": "code",
   "execution_count": null,
   "metadata": {},
   "outputs": [],
   "source": [
    "df_mean"
   ]
  },
  {
   "cell_type": "code",
   "execution_count": null,
   "metadata": {},
   "outputs": [],
   "source": [
    "green = sns.light_palette(\"green\", as_cmap=True)\n",
    "df_mean.style\\\n",
    "    .background_gradient(cmap=green, subset=['value'])"
   ]
  },
  {
   "cell_type": "code",
   "execution_count": null,
   "metadata": {},
   "outputs": [],
   "source": [
    "df_std = a.groupby([\"model_arch\",\"model_hp\"]).agg({'value': ['mean', 'std', 'max', 'count']})"
   ]
  },
  {
   "cell_type": "code",
   "execution_count": null,
   "metadata": {},
   "outputs": [],
   "source": [
    "df_std"
   ]
  },
  {
   "cell_type": "code",
   "execution_count": null,
   "metadata": {},
   "outputs": [],
   "source": [
    "plt.figure(figsize=(16, 9))\n",
    "sns.boxplot(data=a, y=a[\"model+hp\"], x=a.value).set_title(\"Cumulative Reward\")\n"
   ]
  },
  {
   "cell_type": "code",
   "execution_count": null,
   "metadata": {},
   "outputs": [],
   "source": []
  },
  {
   "cell_type": "code",
   "execution_count": null,
   "metadata": {},
   "outputs": [],
   "source": [
    "################################################################################################\n",
    "################################################################################################\n",
    "################################################################################################\n",
    "################################################################################################"
   ]
  },
  {
   "cell_type": "code",
   "execution_count": null,
   "metadata": {},
   "outputs": [],
   "source": []
  },
  {
   "cell_type": "code",
   "execution_count": null,
   "metadata": {},
   "outputs": [],
   "source": [
    "a = df\n",
    "a = a[a.metric == \"eval_stats/AvgEpRet\"]\n",
    "a = a[a.step == a.step.max()]\n",
    "\n",
    "import re\n",
    "def desc_columns(a):\n",
    "    a['arch'] = a.model.apply(lambda x: 'nc' if x == 'nc' else '[Eghbal-zadeh et al., 2021]' if x == \"carla45fully48px_vpg_3k_concatNoEncode_gco_vaefrozen_pmlr_all\" else re.findall(r'carlac_frozenvae_(\\w+)_',x)[0])\n",
    "    a['hp'] = a.model.apply(lambda x: '' if x == 'nc' or x == \"carla45fully48px_vpg_3k_concatNoEncode_gco_vaefrozen_pmlr_all\" else re.findall(r'carlac_frozenvae_[^_]+_(.*)_seed',x)[0])\n",
    "\n",
    "    def simplifyHp(x):\n",
    "        matches = re.findall(r'gamma100\\.0_capacity([0-9.]+)_iterations10000',x)\n",
    "        if matches.__len__() > 0:\n",
    "            x = \"capacity_\"+matches[0]\n",
    "\n",
    "        matches = re.findall(r'tolerance([0-9.]+)_255_lambda_init([0-9.]+)_step500',x)\n",
    "        if matches.__len__() > 0:\n",
    "            x = \"tolerance\"+matches[0][0] + \" lambda-init_\"+matches[0][1]\n",
    "        \n",
    "        return x\n",
    "\n",
    "    a['hp'] = a['hp'].apply(simplifyHp)\n",
    "    a['name'] = a.arch +\" \"+ a.hp\n",
    "\n",
    "    return a\n",
    "\n",
    "a = desc_columns(a)"
   ]
  },
  {
   "cell_type": "code",
   "execution_count": null,
   "metadata": {},
   "outputs": [],
   "source": [
    "a"
   ]
  },
  {
   "cell_type": "code",
   "execution_count": null,
   "metadata": {},
   "outputs": [],
   "source": [
    "a.groupby([\"name\"]).agg({'value': ['mean', 'std', 'max', \"min\", 'count']})"
   ]
  },
  {
   "cell_type": "code",
   "execution_count": null,
   "metadata": {},
   "outputs": [],
   "source": [
    "print(a.groupby([\"name\"]).agg({'value': ['mean', 'std', 'max', \"min\", 'count']}).to_latex())"
   ]
  },
  {
   "cell_type": "code",
   "execution_count": null,
   "metadata": {},
   "outputs": [],
   "source": [
    "plt.figure(figsize=(16, 9))\n",
    "sns.boxplot(data=a, y=a[\"name\"], x=a.value).set_title(\"Cumulative Reward\")\n"
   ]
  },
  {
   "cell_type": "code",
   "execution_count": null,
   "metadata": {},
   "outputs": [],
   "source": [
    "a.name.unique()"
   ]
  },
  {
   "cell_type": "code",
   "execution_count": null,
   "metadata": {},
   "outputs": [],
   "source": [
    "plt.figure(figsize=(9, 4))\n",
    "sns.boxplot(data=a[a.arch == \"BetaVAE\"], y=\"name\", x=\"value\", order=[\"BetaVAE beta1.0\", \"BetaVAE beta5.0\",\"BetaVAE beta10.0\",\"BetaVAE beta20.0\"]).set(xlabel=\"Cumulative Reward\", ylabel=None)\n"
   ]
  },
  {
   "cell_type": "code",
   "execution_count": null,
   "metadata": {},
   "outputs": [],
   "source": [
    "plt.figure(figsize=(9, 3))\n",
    "sns.boxplot(data=a[a.arch == \"AnnealedVAE\"], y=\"name\", x=\"value\", ).set(xlabel=\"Cumulative Reward\", ylabel=None)\n"
   ]
  },
  {
   "cell_type": "code",
   "execution_count": null,
   "metadata": {},
   "outputs": [],
   "source": [
    "plt.figure(figsize=(9, 4))\n",
    "sns.boxplot(data=a[a.arch == \"GecoVAE\"], y=\"name\", x=\"value\").set(xlabel=\"Cumulative Reward\", ylabel=None)\n"
   ]
  },
  {
   "cell_type": "markdown",
   "metadata": {},
   "source": []
  },
  {
   "cell_type": "code",
   "execution_count": null,
   "metadata": {},
   "outputs": [],
   "source": [
    "clist = [\"nc \", \"[Eghbal-zadeh et al., 2021] \", \"BetaVAE beta20.0\", \"AnnealedVAE capacity_15.0\", \"GecoVAE tolerance5.0 lambda-init_0.1\"]\n",
    "c = a[a.name.isin(clist)]\n",
    "plt.figure(figsize=(9, 6))\n",
    "order = clist\n",
    "sns.boxplot(data=c, y=\"name\", x=\"value\", order=order).set(xlabel=\"Cumulative Reward\", ylabel=None)\n"
   ]
  },
  {
   "cell_type": "code",
   "execution_count": null,
   "metadata": {},
   "outputs": [],
   "source": [
    "df = desc_columns(df)"
   ]
  },
  {
   "cell_type": "code",
   "execution_count": null,
   "metadata": {},
   "outputs": [],
   "source": [
    "tlist = [\"nc \", \"[Eghbal-zadeh et al., 2021] \", \"GecoVAE tolerance5.0 lambda-init_0.1\"]\n",
    "t = df[df.name.isin(tlist)]"
   ]
  },
  {
   "cell_type": "code",
   "execution_count": null,
   "metadata": {},
   "outputs": [],
   "source": [
    "t"
   ]
  },
  {
   "cell_type": "code",
   "execution_count": null,
   "metadata": {},
   "outputs": [],
   "source": [
    "sns.lineplot(data=t[t.metric == \"eval_stats/AvgEpRet\"], x=\"step\", y=\"value\", hue=\"name\").set_title(\"reward by Config\")\n"
   ]
  },
  {
   "cell_type": "code",
   "execution_count": null,
   "metadata": {},
   "outputs": [],
   "source": [
    "sns.lineplot(data=t[t.metric == \"eval_stats/GOD_0.7\"], x=\"step\", y=\"value\", hue=\"name\").set_title(\"GOD0.7 by Config\")\n"
   ]
  },
  {
   "cell_type": "code",
   "execution_count": null,
   "metadata": {},
   "outputs": [],
   "source": [
    "df"
   ]
  },
  {
   "cell_type": "code",
   "execution_count": null,
   "metadata": {},
   "outputs": [],
   "source": [
    "#df.to_pickle(\"rl.pkl\")"
   ]
  },
  {
   "cell_type": "code",
   "execution_count": null,
   "metadata": {},
   "outputs": [],
   "source": [
    "clist = [\"nc \", \"[Eghbal-zadeh et al., 2021] \", \"BetaVAE beta20.0\", \"AnnealedVAE capacity_15.0\", \"GecoVAE tolerance5.0 lambda-init_0.1\"]\n",
    "a = df\n",
    "a = a[a.metric == \"eval_stats/AvgScore\"]\n",
    "a = a[a.step == a.step.max()]\n",
    "cgod = a[a.name.isin(clist)]\n",
    "plt.figure(figsize=(9, 6))\n",
    "order = clist\n",
    "sns.boxplot(data=cgod, y=\"name\", x=\"value\", order=order).set(xlabel=\"Avg GOD Score\", ylabel=None)\n"
   ]
  },
  {
   "cell_type": "code",
   "execution_count": null,
   "metadata": {},
   "outputs": [],
   "source": [
    "print(cgod.groupby('name').mean().to_latex())"
   ]
  },
  {
   "cell_type": "code",
   "execution_count": null,
   "metadata": {},
   "outputs": [],
   "source": [
    "cgod[cgod['arch'] == \"nc\"]"
   ]
  },
  {
   "cell_type": "code",
   "execution_count": null,
   "metadata": {},
   "outputs": [],
   "source": [
    "cgod[cgod['arch'] == \"[Eghbal-zadeh et al., 2021]\"][['run', 'value']].values"
   ]
  },
  {
   "cell_type": "code",
   "execution_count": null,
   "metadata": {},
   "outputs": [],
   "source": [
    "cgod[cgod['arch'] == \"nc\"]['value'].mean(), cgod[cgod['arch'] == \"[Eghbal-zadeh et al., 2021]\"]['value'].mean()"
   ]
  },
  {
   "cell_type": "code",
   "execution_count": null,
   "metadata": {},
   "outputs": [],
   "source": [
    "clist = [\"nc \", \"[Eghbal-zadeh et al., 2021] \", \"BetaVAE beta20.0\", \"AnnealedVAE capacity_15.0\", \"GecoVAE tolerance5.0 lambda-init_0.05\", \"GecoVAE tolerance5.0 lambda-init_0.1\"]\n",
    "a = df\n",
    "a = a[a.metric == \"eval_stats/GOD_0.7\"]\n",
    "a = a[a.step == a.step.max()]\n",
    "cg = a[a.name.isin(clist)]\n",
    "plt.figure(figsize=(9, 6))\n",
    "order = clist\n",
    "sns.boxplot(data=cg, y=\"name\", x=\"value\", order=order).set(xlabel=\"GOD_0.7\", ylabel=None)\n"
   ]
  },
  {
   "cell_type": "code",
   "execution_count": null,
   "metadata": {},
   "outputs": [],
   "source": [
    "t = df\n",
    "t = t[t.metric == \"eval_stats/AvgScore\"]\n",
    "t = t[t.step == 0]\n",
    "t[t['name'] == \"AnnealedVAE capacity_15.0\"][\"run\"].values"
   ]
  },
  {
   "cell_type": "code",
   "execution_count": null,
   "metadata": {},
   "outputs": [],
   "source": [
    "from scipy.stats import mannwhitneyu\n",
    "from scipy.stats import ttest_ind"
   ]
  },
  {
   "cell_type": "code",
   "execution_count": null,
   "metadata": {},
   "outputs": [],
   "source": [
    "s = df\n",
    "s = s[s.metric == \"eval_stats/AvgScore\"]\n",
    "s = s[s.step == 59]"
   ]
  },
  {
   "cell_type": "code",
   "execution_count": null,
   "metadata": {},
   "outputs": [],
   "source": [
    "blist = [\"nc \", \"[Eghbal-zadeh et al., 2021] \"]\n",
    "clist = [\"[Eghbal-zadeh et al., 2021] \", \"BetaVAE beta20.0\", \"AnnealedVAE capacity_15.0\", \"GecoVAE tolerance10.0 lambda-init_0.1\",  \"GecoVAE tolerance5.0 lambda-init_0.1\"]\n",
    "s[s['name'] == blist[-1]].value\n",
    "for model in clist:\n",
    " print(model, \"...\", mannwhitneyu(s[s['name'] == blist[-1]].value, s[s['name'] ==model].value))"
   ]
  },
  {
   "cell_type": "code",
   "execution_count": null,
   "metadata": {},
   "outputs": [],
   "source": [
    "blist = [\"nc \", \"[Eghbal-zadeh et al., 2021] \"]\n",
    "clist = [\"[Eghbal-zadeh et al., 2021] \", \"BetaVAE beta20.0\", \"AnnealedVAE capacity_15.0\", \"GecoVAE tolerance5.0 lambda-init_0.1\"]\n",
    "s[s['name'] == blist[-1]].value\n",
    "for model in clist:\n",
    " print(model, \"...\", ttest_ind(s[s['name'] == blist[-1]].value, s[s['name'] ==model].value))"
   ]
  },
  {
   "cell_type": "code",
   "execution_count": null,
   "metadata": {},
   "outputs": [],
   "source": [
    "s = df\n",
    "s = s[s.metric == \"eval_stats/AvgScore\"]\n",
    "s = s[s.step == 29]"
   ]
  }
 ],
 "metadata": {
  "interpreter": {
   "hash": "c764b6373e1e5d863d61174bf1315aa7cf712a3e19d794855d3811783031a7ad"
  },
  "kernelspec": {
   "display_name": "Python 3.7.9 64-bit ('carla': conda)",
   "language": "python",
   "name": "python3"
  },
  "language_info": {
   "codemirror_mode": {
    "name": "ipython",
    "version": 3
   },
   "file_extension": ".py",
   "mimetype": "text/x-python",
   "name": "python",
   "nbconvert_exporter": "python",
   "pygments_lexer": "ipython3",
   "version": "3.7.9"
  },
  "orig_nbformat": 4
 },
 "nbformat": 4,
 "nbformat_minor": 2
}
